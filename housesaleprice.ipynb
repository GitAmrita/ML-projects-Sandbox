{
 "cells": [
  {
   "cell_type": "code",
   "execution_count": 1,
   "id": "14a5c0da",
   "metadata": {
    "_cell_guid": "b1076dfc-b9ad-4769-8c92-a6c4dae69d19",
    "_uuid": "8f2839f25d086af736a60e9eeb907d3b93b6e0e5",
    "execution": {
     "iopub.execute_input": "2024-10-05T13:41:10.760526Z",
     "iopub.status.busy": "2024-10-05T13:41:10.760055Z",
     "iopub.status.idle": "2024-10-05T13:41:11.817339Z",
     "shell.execute_reply": "2024-10-05T13:41:11.815815Z"
    },
    "papermill": {
     "duration": 1.064846,
     "end_time": "2024-10-05T13:41:11.820245",
     "exception": false,
     "start_time": "2024-10-05T13:41:10.755399",
     "status": "completed"
    },
    "tags": []
   },
   "outputs": [
    {
     "name": "stdout",
     "output_type": "stream",
     "text": [
      "/kaggle/input/home-data-for-ml-course/sample_submission.csv\n",
      "/kaggle/input/home-data-for-ml-course/sample_submission.csv.gz\n",
      "/kaggle/input/home-data-for-ml-course/train.csv.gz\n",
      "/kaggle/input/home-data-for-ml-course/data_description.txt\n",
      "/kaggle/input/home-data-for-ml-course/test.csv.gz\n",
      "/kaggle/input/home-data-for-ml-course/train.csv\n",
      "/kaggle/input/home-data-for-ml-course/test.csv\n"
     ]
    }
   ],
   "source": [
    "# This Python 3 environment comes with many helpful analytics libraries installed\n",
    "# It is defined by the kaggle/python Docker image: https://github.com/kaggle/docker-python\n",
    "# For example, here's several helpful packages to load\n",
    "\n",
    "import numpy as np # linear algebra\n",
    "import pandas as pd # data processing, CSV file I/O (e.g. pd.read_csv)\n",
    "\n",
    "# Input data files are available in the read-only \"../input/\" directory\n",
    "# For example, running this (by clicking run or pressing Shift+Enter) will list all files under the input directory\n",
    "\n",
    "import os\n",
    "for dirname, _, filenames in os.walk('/kaggle/input'):\n",
    "    for filename in filenames:\n",
    "        print(os.path.join(dirname, filename))\n",
    "\n",
    "# You can write up to 20GB to the current directory (/kaggle/working/) that gets preserved as output when you create a version using \"Save & Run All\" \n",
    "# You can also write temporary files to /kaggle/temp/, but they won't be saved outside of the current session"
   ]
  },
  {
   "cell_type": "code",
   "execution_count": 2,
   "id": "c2472d6b",
   "metadata": {
    "execution": {
     "iopub.execute_input": "2024-10-05T13:41:11.827897Z",
     "iopub.status.busy": "2024-10-05T13:41:11.827332Z",
     "iopub.status.idle": "2024-10-05T13:41:14.339960Z",
     "shell.execute_reply": "2024-10-05T13:41:14.338643Z"
    },
    "papermill": {
     "duration": 2.522689,
     "end_time": "2024-10-05T13:41:14.345556",
     "exception": false,
     "start_time": "2024-10-05T13:41:11.822867",
     "status": "completed"
    },
    "tags": []
   },
   "outputs": [
    {
     "name": "stdout",
     "output_type": "stream",
     "text": [
      "0.15898297857213403\n"
     ]
    }
   ],
   "source": [
    "import pandas as pd\n",
    "from sklearn.ensemble import RandomForestRegressor, GradientBoostingRegressor\n",
    "from sklearn.metrics import mean_squared_error\n",
    "from sklearn.model_selection import train_test_split\n",
    "from sklearn.preprocessing import LabelEncoder\n",
    "import numpy as np\n",
    "\n",
    "df = pd.read_csv('/kaggle/input/home-data-for-ml-course/train.csv')\n",
    "# print(df.columns)\n",
    "features = [\"Utilities\",\"Neighborhood\", \"BldgType\", \"YearBuilt\", \"YearRemodAdd\", \"GrLivArea\", \"LotArea\", \"CentralAir\",\n",
    "            \"BedroomAbvGr\", \"GarageCars\", \"OverallCond\"]\n",
    "\n",
    "# print(df[features].head())\n",
    "\n",
    "label_encoder = LabelEncoder()\n",
    "df[\"Utilities\"] = label_encoder.fit_transform(df[\"Utilities\"])\n",
    "df[\"Neighborhood\"] = label_encoder.fit_transform(df[\"Neighborhood\"])\n",
    "df[\"BldgType\"] = label_encoder.fit_transform(df[\"BldgType\"])\n",
    "df[\"CentralAir\"] = df[\"CentralAir\"].map({'Y': 1, 'N': 0})\n",
    "\n",
    "# print(df[features].head())\n",
    "X = df[features]\n",
    "y = df.SalePrice\n",
    "\n",
    "X_train, X_test, y_train, y_test = train_test_split(X, y, test_size=0.2, random_state=42)\n",
    "# model = RandomForestRegressor(n_estimators=500, random_state=42)\n",
    "model = GradientBoostingRegressor(n_estimators=100, learning_rate=0.1, max_depth=3, random_state=42)\n",
    "model.fit(X_train, y_train)\n",
    "predictions = model.predict(X_test)\n",
    "\n",
    "# Step 1: Add a small value to prevent taking log of 0\n",
    "epsilon = 1e-6\n",
    "predictions = predictions + epsilon\n",
    "y_test = y_test + epsilon\n",
    " \n",
    "log_predictions = np.log(predictions)\n",
    "log_y_test = np.log(y_test)\n",
    "rmse_log = np.sqrt(mean_squared_error(log_predictions, log_y_test))\n",
    "# mse = mean_squared_error(predictions, y_test)\n",
    "print(rmse_log)\n",
    "# random forest - 0.18224137960318498\n",
    "# gradient boost - 0.1826394005916816 max depth = 3\n",
    "# 0.1768805385579121 -central air, 0.17248604946185436 - bdroom, 0.169248976411171 garage car, 0.15898297857213403 overallcond\n"
   ]
  }
 ],
 "metadata": {
  "kaggle": {
   "accelerator": "none",
   "dataSources": [
    {
     "databundleVersionId": 111096,
     "sourceId": 10211,
     "sourceType": "competition"
    }
   ],
   "dockerImageVersionId": 30775,
   "isGpuEnabled": false,
   "isInternetEnabled": false,
   "language": "python",
   "sourceType": "notebook"
  },
  "kernelspec": {
   "display_name": "Python 3",
   "language": "python",
   "name": "python3"
  },
  "language_info": {
   "codemirror_mode": {
    "name": "ipython",
    "version": 3
   },
   "file_extension": ".py",
   "mimetype": "text/x-python",
   "name": "python",
   "nbconvert_exporter": "python",
   "pygments_lexer": "ipython3",
   "version": "3.10.14"
  },
  "papermill": {
   "default_parameters": {},
   "duration": 7.651432,
   "end_time": "2024-10-05T13:41:15.074583",
   "environment_variables": {},
   "exception": null,
   "input_path": "__notebook__.ipynb",
   "output_path": "__notebook__.ipynb",
   "parameters": {},
   "start_time": "2024-10-05T13:41:07.423151",
   "version": "2.6.0"
  }
 },
 "nbformat": 4,
 "nbformat_minor": 5
}
